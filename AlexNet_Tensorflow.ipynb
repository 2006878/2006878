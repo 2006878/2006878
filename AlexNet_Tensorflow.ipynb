{
  "nbformat": 4,
  "nbformat_minor": 0,
  "metadata": {
    "colab": {
      "provenance": [],
      "authorship_tag": "ABX9TyMe277P+wvM45KCBaRcAGus"
    },
    "kernelspec": {
      "name": "python3",
      "display_name": "Python 3"
    },
    "language_info": {
      "name": "python"
    }
  },
  "cells": [
    {
      "cell_type": "code",
      "source": [
        "import tensorflow as tf\n",
        "from d2l import tensorflow as d2l\n",
        "\n",
        "\n",
        "def net():\n",
        "    return tf.keras.models.Sequential([\n",
        "        # Aqui, usamos uma janela maior de 11 x 11 para capturar objetos.\n",
        "        # Ao mesmo tempo, usamos um passo de 4 para reduzir significativamente\n",
        "        # a altura e a largura da saída.\n",
        "        # Aqui, o número de canais de saída é muito maior do que no LeNet\n",
        "        tf.keras.layers.Conv2D(filters=96, kernel_size=11, strides=4,\n",
        "                               activation='relu'),\n",
        "        tf.keras.layers.MaxPool2D(pool_size=3, strides=2),\n",
        "        # Torne a janela de convolução menor, defina o preenchimento\n",
        "        # para 2 para altura e largura consistentes na entrada e\n",
        "        # saída e aumente o número de canais de saída\n",
        "        tf.keras.layers.Conv2D(filters=256, kernel_size=5, padding='same',\n",
        "                               activation='relu'),\n",
        "        tf.keras.layers.MaxPool2D(pool_size=3, strides=2),\n",
        "        # Use três camadas convolucionais sucessivas e uma janela de convolução menor.\n",
        "        # Exceto para a camada convolucional final, o número de canais de saída\n",
        "        # é aumentado ainda mais. Camadas de pooling não são usadas para reduzir a\n",
        "        # altura e largura de entrada após as duas primeiras camadas convolucionais\n",
        "        tf.keras.layers.Conv2D(filters=384, kernel_size=3, padding='same',\n",
        "                               activation='relu'),\n",
        "        tf.keras.layers.Conv2D(filters=384, kernel_size=3, padding='same',\n",
        "                               activation='relu'),\n",
        "        tf.keras.layers.Conv2D(filters=256, kernel_size=3, padding='same',\n",
        "                               activation='relu'),\n",
        "        tf.keras.layers.MaxPool2D(pool_size=3, strides=2),\n",
        "        tf.keras.layers.Flatten(),\n",
        "        # Aqui, o número de saídas da camada totalmente conectada é várias vezes\n",
        "        # maior do que no LeNet. Use a camada de eliminação para mitigar overfitting\n",
        "        tf.keras.layers.Dense(4096, activation='relu'),\n",
        "        tf.keras.layers.Dropout(0.5),\n",
        "        tf.keras.layers.Dense(4096, activation='relu'),\n",
        "        tf.keras.layers.Dropout(0.5),\n",
        "        # Camada de saída. Como estamos usando o Fashion-MNIST, o número de\n",
        "        # classes é 10, em vez de 1000 como no papel\n",
        "        tf.keras.layers.Dense(10)\n",
        "    ])\n"
      ],
      "metadata": {
        "id": "euhcsL6wcEMS"
      },
      "execution_count": null,
      "outputs": []
    },
    {
      "cell_type": "code",
      "source": [
        "X = tf.random.uniform((1, 224, 224, 1))\n",
        "for layer in net().layers:\n",
        "    X = layer(X)\n",
        "    print(layer.__class__.__name__, 'output shape:\\t', X.shape)"
      ],
      "metadata": {
        "id": "WrE-LkTccFjM"
      },
      "execution_count": null,
      "outputs": []
    },
    {
      "cell_type": "code",
      "source": [
        "batch_size = 128\n",
        "train_iter, test_iter = d2l.load_data_fashion_mnist(batch_size, resize=224)"
      ],
      "metadata": {
        "id": "Uacw9TiFcJuM"
      },
      "execution_count": null,
      "outputs": []
    },
    {
      "cell_type": "code",
      "source": [
        "lr, num_epochs = 0.01, 10\n",
        "d2l.train_ch6(net, train_iter, test_iter, num_epochs, lr, d2l.try_gpu())"
      ],
      "metadata": {
        "id": "2lCrvxRaco1M"
      },
      "execution_count": null,
      "outputs": []
    }
  ]
}